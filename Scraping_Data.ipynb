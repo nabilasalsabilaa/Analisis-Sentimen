{
  "nbformat": 4,
  "nbformat_minor": 0,
  "metadata": {
    "colab": {
      "provenance": []
    },
    "kernelspec": {
      "name": "python3",
      "display_name": "Python 3"
    },
    "language_info": {
      "name": "python"
    }
  },
  "cells": [
    {
      "cell_type": "markdown",
      "source": [
        "# Scraping data of Gojek App Reviews"
      ],
      "metadata": {
        "id": "RMKAaUaiQIJq"
      }
    },
    {
      "cell_type": "code",
      "source": [
        "pip install google-play-scraper"
      ],
      "metadata": {
        "colab": {
          "base_uri": "https://localhost:8080/"
        },
        "id": "tU1Py7k0QFD6",
        "outputId": "e6072286-5124-46c0-f977-e8f054a24965"
      },
      "execution_count": 1,
      "outputs": [
        {
          "output_type": "stream",
          "name": "stdout",
          "text": [
            "Collecting google-play-scraper\n",
            "  Downloading google_play_scraper-1.2.7-py3-none-any.whl.metadata (50 kB)\n",
            "\u001b[?25l     \u001b[90m━━━━━━━━━━━━━━━━━━━━━━━━━━━━━━━━━━━━━━━━\u001b[0m \u001b[32m0.0/50.2 kB\u001b[0m \u001b[31m?\u001b[0m eta \u001b[36m-:--:--\u001b[0m\r\u001b[2K     \u001b[90m━━━━━━━━━━━━━━━━━━━━━━━━━━━━━━━━━━━━━━━━\u001b[0m \u001b[32m50.2/50.2 kB\u001b[0m \u001b[31m2.1 MB/s\u001b[0m eta \u001b[36m0:00:00\u001b[0m\n",
            "\u001b[?25hDownloading google_play_scraper-1.2.7-py3-none-any.whl (28 kB)\n",
            "Installing collected packages: google-play-scraper\n",
            "Successfully installed google-play-scraper-1.2.7\n"
          ]
        }
      ]
    },
    {
      "cell_type": "code",
      "source": [
        "from google_play_scraper import Sort, reviews\n",
        "import csv"
      ],
      "metadata": {
        "id": "-49hXw0PQFZx"
      },
      "execution_count": 2,
      "outputs": []
    },
    {
      "cell_type": "code",
      "source": [
        "# Mengambil ulasan aplikasi Gojek\n",
        "result, continuation_token = reviews(\n",
        "    'com.gojek.app',\n",
        "    lang='id',\n",
        "    country='id',\n",
        "    sort=Sort.NEWEST,\n",
        "    count=3000\n",
        ")"
      ],
      "metadata": {
        "id": "sEMEwpw7QvlE"
      },
      "execution_count": 3,
      "outputs": []
    },
    {
      "cell_type": "code",
      "source": [
        "# Menampilkan beberapa ulasan sebagai contoh\n",
        "for review in result[:10]:\n",
        "    print(f\"Ulasan: {review['content']}, Rating: {review['score']}\")"
      ],
      "metadata": {
        "colab": {
          "base_uri": "https://localhost:8080/"
        },
        "id": "6Eb-cXQiQzn7",
        "outputId": "ec0210e2-725a-4022-9fde-5d18d6767c8b"
      },
      "execution_count": 4,
      "outputs": [
        {
          "output_type": "stream",
          "name": "stdout",
          "text": [
            "Ulasan: Banyak driver yang baik ramah dan cepat sampainya dari di jemput sampai lokasi juga, Rating: 5\n",
            "Ulasan: Sangat membantu sekali, Rating: 5\n",
            "Ulasan: Wow, Rating: 5\n",
            "Ulasan: sbetul y q pengguna setia....trnyata gojek masih ok....🙏, Rating: 5\n",
            "Ulasan: Terlalu gegabah, Rating: 5\n",
            "Ulasan: aplikasi KoonTooL anjjing Babbi, Rating: 1\n",
            "Ulasan: Aplikasi yang bagus mudah untuk pengguna mengakses apalagi dengan banyak nya gitu lebih mudah tidak di ragukan lagi deh, Rating: 4\n",
            "Ulasan: Mantap, Rating: 5\n",
            "Ulasan: Top, Rating: 5\n",
            "Ulasan: Sangat baik memudah kan perjalan adanya gojek semogah sukses lalu, Rating: 5\n"
          ]
        }
      ]
    },
    {
      "cell_type": "code",
      "source": [
        "# Menyimpan hasil ke file CSV\n",
        "with open('gojek_reviews.csv', mode='w', newline='', encoding='utf-8') as file:\n",
        "    writer = csv.writer(file)\n",
        "    writer.writerow(['Review', 'Rating', 'Thumbs Up Count', 'Review Date'])\n",
        "\n",
        "    # Menyimpan semua ulasan ke file\n",
        "    for review in result:\n",
        "        writer.writerow([review['content'], review['score'], review['thumbsUpCount'], review['at']])"
      ],
      "metadata": {
        "id": "i_UV10NLQ2dT"
      },
      "execution_count": 5,
      "outputs": []
    }
  ]
}